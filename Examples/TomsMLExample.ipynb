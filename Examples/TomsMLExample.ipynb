{
 "cells": [
  {
   "cell_type": "code",
   "execution_count": 1,
   "metadata": {},
   "outputs": [
    {
     "name": "stderr",
     "output_type": "stream",
     "text": [
      "24/11/18 11:12:16 WARN Utils: Your hostname, MacBook-Air.local resolves to a loopback address: 127.0.0.1; using 10.0.0.219 instead (on interface en0)\n",
      "24/11/18 11:12:16 WARN Utils: Set SPARK_LOCAL_IP if you need to bind to another address\n",
      "Setting default log level to \"WARN\".\n",
      "To adjust logging level use sc.setLogLevel(newLevel). For SparkR, use setLogLevel(newLevel).\n",
      "24/11/18 11:12:16 WARN NativeCodeLoader: Unable to load native-hadoop library for your platform... using builtin-java classes where applicable\n",
      "                                                                                \r"
     ]
    }
   ],
   "source": [
    "from pyspark.sql import SparkSession\n",
    "\n",
    "\n",
    "# .config(\"spark.sql.shuffle.partitions\", 20) \\  # Optimize for parallelism\n",
    "spark = SparkSession.builder\\\n",
    "        .master(\"local\")\\\n",
    "        .appName(\"Colab\")\\\n",
    "        .config('spark.ui.port', '4050')\\\n",
    "        .getOrCreate()\n",
    "\n",
    "\n",
    "sc = spark.sparkContext\n",
    "\n",
    "fileName = './brewery_data_complete_extended.csv'\n",
    "\n",
    "# deerfootRDD = (sc.textFile(fileName, 8))\n",
    "# print('\\n'.join(deerfootRDD.zipWithIndex().map(lambda x: str(x[1]) + ': ' + str(x[0])).take(15)))\n",
    "\n",
    "from pyspark.ml.feature import VectorAssembler\n",
    "from pyspark.ml.regression import LinearRegression\n",
    "from pyspark.ml.classification import LogisticRegression\n",
    "from pyspark.ml.evaluation import MulticlassClassificationEvaluator\n",
    "from pyspark.ml.feature import StringIndexer\n",
    "\n",
    "# Load a CSV file\n",
    "df = spark.read.csv(fileName, header=True, inferSchema=True)\n"
   ]
  },
  {
   "cell_type": "code",
   "execution_count": 3,
   "metadata": {},
   "outputs": [
    {
     "name": "stderr",
     "output_type": "stream",
     "text": [
      "                                                                                \r"
     ]
    },
    {
     "name": "stdout",
     "output_type": "stream",
     "text": [
      "Row(features=DenseVector([5.2898, 24.2043]), label=7.0)\n"
     ]
    },
    {
     "name": "stderr",
     "output_type": "stream",
     "text": [
      "                                                                                \r"
     ]
    },
    {
     "name": "stdout",
     "output_type": "stream",
     "text": [
      "+--------------------+-----+--------------------+--------------------+----------+\n",
      "|            features|label|       rawPrediction|         probability|prediction|\n",
      "+--------------------+-----+--------------------+--------------------+----------+\n",
      "|[4.50000126083050...|  2.0|[3.26122317422683...|[0.12504074868100...|       2.0|\n",
      "|[4.50000622342672...|  1.0|[3.26122317422683...|[0.12504074868100...|       2.0|\n",
      "|[4.50002129320163...|  3.0|[3.26122317422683...|[0.12504074868100...|       2.0|\n",
      "|[4.50003152645682...|  6.0|[3.26122317422683...|[0.12504074868100...|       2.0|\n",
      "|[4.50003842627774...|  1.0|[3.26122317422683...|[0.12504074868100...|       2.0|\n",
      "|[4.50004397879550...|  5.0|[3.26122317422683...|[0.12504074868100...|       2.0|\n",
      "|[4.50004477361177...|  6.0|[3.26122317422683...|[0.12504074868100...|       2.0|\n",
      "|[4.50005039533961...|  2.0|[3.26122317422683...|[0.12504074868100...|       2.0|\n",
      "|[4.50005564557337...|  2.0|[3.26122317422683...|[0.12504074868100...|       2.0|\n",
      "|[4.50006003415940...|  4.0|[3.26122317422683...|[0.12504074868100...|       2.0|\n",
      "|[4.50006830081628...|  7.0|[3.26122317422683...|[0.12504074868100...|       2.0|\n",
      "|[4.50006846565231...|  1.0|[3.26122317422683...|[0.12504074868100...|       2.0|\n",
      "|[4.50006912206044...|  4.0|[3.26122317422683...|[0.12504074868100...|       2.0|\n",
      "|[4.50008574249209...|  3.0|[3.26122317422683...|[0.12504074868100...|       2.0|\n",
      "|[4.50008846425065...|  3.0|[3.26122317422683...|[0.12504074868100...|       2.0|\n",
      "|[4.50009050294150...|  1.0|[3.26122317422683...|[0.12504074868100...|       2.0|\n",
      "|[4.50009516649154...|  1.0|[3.26122317422683...|[0.12504074868100...|       2.0|\n",
      "|[4.50009841206267...|  5.0|[3.26122317422683...|[0.12504074868100...|       2.0|\n",
      "|[4.50010003935686...|  7.0|[3.26122317422683...|[0.12504074868100...|       2.0|\n",
      "|[4.50010481281909...|  4.0|[3.26122317422683...|[0.12504074868100...|       2.0|\n",
      "+--------------------+-----+--------------------+--------------------+----------+\n",
      "only showing top 20 rows\n",
      "\n"
     ]
    },
    {
     "name": "stderr",
     "output_type": "stream",
     "text": [
      "[Stage 20:=====================================================>  (19 + 1) / 20]\r"
     ]
    },
    {
     "name": "stdout",
     "output_type": "stream",
     "text": [
      "Test Accuracy = 0.12\n"
     ]
    },
    {
     "name": "stderr",
     "output_type": "stream",
     "text": [
      "\r",
      "                                                                                \r"
     ]
    }
   ],
   "source": [
    "\n",
    "# Prepare data\n",
    "targetColumn = \"Beer_Style\"\n",
    "labelColumn = \"label\"\n",
    "assembler = VectorAssembler(inputCols=[\"pH_Level\", \"Temperature\"], outputCol=\"features\")\n",
    "data = assembler.transform(df).select(\"features\", targetColumn)\n",
    "indexer = StringIndexer(inputCol=targetColumn, outputCol=labelColumn)\n",
    "indexed_df = indexer.fit(df).transform(df)\n",
    "data = assembler.transform(indexed_df).select(\"features\", labelColumn)\n",
    "\n",
    "print(data.head())\n",
    "\n",
    "# Split into training and testing\n",
    "train, test = data.randomSplit([0.7, 0.3])\n",
    "\n",
    "# # Train a model\n",
    "# lr = LinearRegression(featuresCol=\"features\", labelCol=\"targetColumn\")\n",
    "# model = lr.fit(train)\n",
    "\n",
    "# Initialize Logistic Regression model\n",
    "lr = LogisticRegression(featuresCol=\"features\", labelCol=labelColumn,\n",
    "        maxIter=50,\n",
    "        regParam=0.1,\n",
    "        elasticNetParam=0.8,\n",
    "        predictionCol=\"prediction\"\n",
    "        )\n",
    "\n",
    "# Train the model\n",
    "model = lr.fit(train)\n",
    "\n",
    "# Evaluate\n",
    "predictions = model.transform(test)\n",
    "predictions.show()\n",
    "\n",
    "# Initialize evaluator\n",
    "evaluator = MulticlassClassificationEvaluator(\n",
    "    labelCol=labelColumn,\n",
    "    predictionCol=\"prediction\",\n",
    "    metricName=\"accuracy\"\n",
    ")\n",
    "\n",
    "# Calculate accuracy\n",
    "accuracy = evaluator.evaluate(predictions)\n",
    "print(f\"Test Accuracy = {accuracy:.2f}\")"
   ]
  },
  {
   "cell_type": "code",
   "execution_count": null,
   "metadata": {},
   "outputs": [],
   "source": []
  }
 ],
 "metadata": {
  "kernelspec": {
   "display_name": "Python 3 (ipykernel)",
   "language": "python",
   "name": "python3"
  },
  "language_info": {
   "codemirror_mode": {
    "name": "ipython",
    "version": 3
   },
   "file_extension": ".py",
   "mimetype": "text/x-python",
   "name": "python",
   "nbconvert_exporter": "python",
   "pygments_lexer": "ipython3",
   "version": "3.11.7"
  }
 },
 "nbformat": 4,
 "nbformat_minor": 2
}
