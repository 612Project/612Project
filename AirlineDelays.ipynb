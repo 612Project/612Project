{
 "cells": [
  {
   "cell_type": "code",
   "execution_count": 9,
   "metadata": {},
   "outputs": [
    {
     "name": "stderr",
     "output_type": "stream",
     "text": [
      "[Stage 40:==============================================>           (4 + 1) / 5]\r"
     ]
    },
    {
     "name": "stdout",
     "output_type": "stream",
     "text": [
      "Row(MONTH=7, DAY_OF_WEEK=7, DEP_DEL15=0, DEP_TIME_BLK='1500-1559', DISTANCE_GROUP=3, SEGMENT_NUMBER=3, CONCURRENT_FLIGHTS=26, NUMBER_OF_SEATS=160, CARRIER_NAME='American Airlines Inc.', AIRPORT_FLIGHTS_MONTH=19534, AIRLINE_FLIGHTS_MONTH=79247, AIRLINE_AIRPORT_FLIGHTS_MONTH=7972, AVG_MONTHLY_PASS_AIRPORT=2006675, AVG_MONTHLY_PASS_AIRLINE=11744595, FLT_ATTENDANTS_PER_PASS=9.82082928995461e-05, GROUND_SERV_PER_PASS=0.00017728721959309724, PLANE_AGE=6, DEPARTING_AIRPORT='Douglas Municipal', LATITUDE=35.219, LONGITUDE=-80.936, PREVIOUS_AIRPORT=\"Chicago O'Hare International\", PRCP=0.0, SNOW=0.0, SNWD=0.0, TMAX=95.0, AWND=4.25, CARRIER_HISTORICAL=0.2377091471954006, DEP_AIRPORT_HIST=0.2732357375614027, DAY_HISTORICAL=0.22253848170480506, DEP_BLOCK_HIST=0.25547875927174646)\n",
      "Row(MONTH=4, DAY_OF_WEEK=6, DEP_DEL15=0, DEP_TIME_BLK='1000-1059', DISTANCE_GROUP=3, SEGMENT_NUMBER=3, CONCURRENT_FLIGHTS=5, NUMBER_OF_SEATS=110, CARRIER_NAME='Delta Air Lines Inc.', AIRPORT_FLIGHTS_MONTH=6837, AIRLINE_FLIGHTS_MONTH=81803, AIRLINE_AIRPORT_FLIGHTS_MONTH=180, AVG_MONTHLY_PASS_AIRPORT=819756, AVG_MONTHLY_PASS_AIRLINE=12460183, FLT_ATTENDANTS_PER_PASS=0.0001441658849878598, GROUND_SERV_PER_PASS=0.0001486602009422039, PLANE_AGE=18, DEPARTING_AIRPORT='Chicago Midway International', LATITUDE=41.785, LONGITUDE=-87.752, PREVIOUS_AIRPORT='Atlanta Municipal', PRCP=0.0, SNOW=0.0, SNWD=0.0, TMAX=64.0, AWND=13.87, CARRIER_HISTORICAL=0.13955758569244653, DEP_AIRPORT_HIST=0.1803071285228165, DAY_HISTORICAL=0.1771240234375, DEP_BLOCK_HIST=0.14777310187620551)\n"
     ]
    },
    {
     "name": "stderr",
     "output_type": "stream",
     "text": [
      "                                                                                \r"
     ]
    }
   ],
   "source": [
    "from pyspark.sql import SparkSession\n",
    "\n",
    "\n",
    "# .config(\"spark.sql.shuffle.partitions\", 20) \\  # Optimize for parallelism\n",
    "spark = SparkSession.builder\\\n",
    "        .master(\"local\")\\\n",
    "        .appName(\"Colab\")\\\n",
    "        .config('spark.ui.port', '4050')\\\n",
    "        .getOrCreate()\n",
    "\n",
    "\n",
    "sc = spark.sparkContext\n",
    "\n",
    "trainFileName = './train.csv'\n",
    "testFileName = './test.csv'\n",
    "\n",
    "# deerfootRDD = (sc.textFile(fileName, 8))\n",
    "# print('\\n'.join(deerfootRDD.zipWithIndex().map(lambda x: str(x[1]) + ': ' + str(x[0])).take(15)))\n",
    "\n",
    "# Load a CSV file\n",
    "trainDF = spark.read.csv(trainFileName, header=True, inferSchema=True)\n",
    "testDF = spark.read.csv(testFileName, header=True, inferSchema=True)\n",
    "\n",
    "print(trainDF.head())\n",
    "print(testDF.head())\n"
   ]
  },
  {
   "cell_type": "code",
   "execution_count": 10,
   "metadata": {},
   "outputs": [
    {
     "name": "stderr",
     "output_type": "stream",
     "text": [
      "24/12/02 14:01:34 WARN MemoryStore: Not enough space to cache rdd_217_0 in memory! (computed 347.9 MiB so far)\n",
      "24/12/02 14:01:34 WARN BlockManager: Persisting block rdd_217_0 to disk instead.\n",
      "24/12/02 14:01:39 WARN MemoryStore: Not enough space to cache rdd_217_0 in memory! (computed 347.9 MiB so far)\n",
      "24/12/02 14:01:42 WARN MemoryStore: Not enough space to cache rdd_217_1 in memory! (computed 347.9 MiB so far)\n",
      "24/12/02 14:01:42 WARN BlockManager: Persisting block rdd_217_1 to disk instead.\n",
      "24/12/02 14:01:47 WARN MemoryStore: Not enough space to cache rdd_217_1 in memory! (computed 347.9 MiB so far)\n",
      "24/12/02 14:01:50 WARN MemoryStore: Not enough space to cache rdd_217_2 in memory! (computed 347.9 MiB so far)\n",
      "24/12/02 14:01:50 WARN BlockManager: Persisting block rdd_217_2 to disk instead.\n",
      "24/12/02 14:01:55 WARN MemoryStore: Not enough space to cache rdd_217_2 in memory! (computed 347.9 MiB so far)\n",
      "24/12/02 14:01:58 WARN MemoryStore: Not enough space to cache rdd_217_3 in memory! (computed 347.9 MiB so far)\n",
      "24/12/02 14:01:58 WARN BlockManager: Persisting block rdd_217_3 to disk instead.\n",
      "24/12/02 14:02:02 WARN MemoryStore: Not enough space to cache rdd_217_3 in memory! (computed 347.9 MiB so far)\n",
      "24/12/02 14:02:05 WARN MemoryStore: Not enough space to cache rdd_217_4 in memory! (computed 347.9 MiB so far)\n",
      "24/12/02 14:02:05 WARN BlockManager: Persisting block rdd_217_4 to disk instead.\n",
      "24/12/02 14:02:10 WARN MemoryStore: Not enough space to cache rdd_217_4 in memory! (computed 347.9 MiB so far)\n",
      "24/12/02 14:02:13 WARN MemoryStore: Not enough space to cache rdd_217_5 in memory! (computed 347.9 MiB so far)\n",
      "24/12/02 14:02:13 WARN BlockManager: Persisting block rdd_217_5 to disk instead.\n",
      "24/12/02 14:02:18 WARN MemoryStore: Not enough space to cache rdd_217_5 in memory! (computed 347.9 MiB so far)\n",
      "24/12/02 14:02:21 WARN MemoryStore: Not enough space to cache rdd_217_6 in memory! (computed 347.9 MiB so far)\n",
      "24/12/02 14:02:21 WARN BlockManager: Persisting block rdd_217_6 to disk instead.\n",
      "24/12/02 14:02:26 WARN MemoryStore: Not enough space to cache rdd_217_6 in memory! (computed 347.9 MiB so far)\n",
      "24/12/02 14:02:28 WARN MemoryStore: Not enough space to cache rdd_217_7 in memory! (computed 347.9 MiB so far)\n",
      "24/12/02 14:02:28 WARN BlockManager: Persisting block rdd_217_7 to disk instead.\n",
      "24/12/02 14:02:33 WARN MemoryStore: Not enough space to cache rdd_217_7 in memory! (computed 347.9 MiB so far)\n",
      "24/12/02 14:02:36 WARN MemoryStore: Not enough space to cache rdd_217_8 in memory! (computed 347.9 MiB so far)\n",
      "24/12/02 14:02:36 WARN BlockManager: Persisting block rdd_217_8 to disk instead.\n",
      "24/12/02 14:02:41 WARN MemoryStore: Not enough space to cache rdd_217_8 in memory! (computed 347.9 MiB so far)\n",
      "24/12/02 14:02:44 WARN MemoryStore: Not enough space to cache rdd_217_9 in memory! (computed 347.9 MiB so far)\n",
      "24/12/02 14:02:44 WARN BlockManager: Persisting block rdd_217_9 to disk instead.\n",
      "24/12/02 14:02:47 WARN MemoryStore: Not enough space to cache rdd_217_9 in memory! (computed 347.9 MiB so far)\n",
      "24/12/02 14:02:49 WARN MemoryStore: Not enough space to cache rdd_217_0 in memory! (computed 347.9 MiB so far)\n",
      "24/12/02 14:02:51 WARN MemoryStore: Not enough space to cache rdd_217_1 in memory! (computed 347.9 MiB so far)\n",
      "24/12/02 14:02:52 WARN MemoryStore: Not enough space to cache rdd_217_2 in memory! (computed 347.9 MiB so far)\n",
      "24/12/02 14:02:54 WARN MemoryStore: Not enough space to cache rdd_217_3 in memory! (computed 347.9 MiB so far)\n",
      "24/12/02 14:02:56 WARN MemoryStore: Not enough space to cache rdd_217_4 in memory! (computed 347.9 MiB so far)\n",
      "24/12/02 14:02:58 WARN MemoryStore: Not enough space to cache rdd_217_5 in memory! (computed 347.9 MiB so far)\n",
      "24/12/02 14:03:00 WARN MemoryStore: Not enough space to cache rdd_217_6 in memory! (computed 347.9 MiB so far)\n",
      "24/12/02 14:03:02 WARN MemoryStore: Not enough space to cache rdd_217_7 in memory! (computed 347.9 MiB so far)\n",
      "24/12/02 14:03:03 WARN MemoryStore: Not enough space to cache rdd_217_8 in memory! (computed 347.9 MiB so far)\n",
      "24/12/02 14:03:05 WARN MemoryStore: Not enough space to cache rdd_217_9 in memory! (computed 347.9 MiB so far)\n",
      "24/12/02 14:03:07 WARN MemoryStore: Not enough space to cache rdd_217_0 in memory! (computed 347.9 MiB so far)\n",
      "24/12/02 14:03:09 WARN MemoryStore: Not enough space to cache rdd_217_1 in memory! (computed 347.9 MiB so far)\n",
      "24/12/02 14:03:11 WARN MemoryStore: Not enough space to cache rdd_217_2 in memory! (computed 347.9 MiB so far)\n",
      "24/12/02 14:03:13 WARN MemoryStore: Not enough space to cache rdd_217_3 in memory! (computed 347.9 MiB so far)\n",
      "24/12/02 14:03:15 WARN MemoryStore: Not enough space to cache rdd_217_4 in memory! (computed 347.9 MiB so far)\n",
      "24/12/02 14:03:17 WARN MemoryStore: Not enough space to cache rdd_217_5 in memory! (computed 347.9 MiB so far)\n",
      "24/12/02 14:03:19 WARN MemoryStore: Not enough space to cache rdd_217_6 in memory! (computed 347.9 MiB so far)\n",
      "24/12/02 14:03:21 WARN MemoryStore: Not enough space to cache rdd_217_7 in memory! (computed 347.9 MiB so far)\n",
      "24/12/02 14:03:23 WARN MemoryStore: Not enough space to cache rdd_217_8 in memory! (computed 347.9 MiB so far)\n",
      "24/12/02 14:03:25 WARN MemoryStore: Not enough space to cache rdd_217_9 in memory! (computed 347.9 MiB so far)\n",
      "24/12/02 14:03:26 WARN MemoryStore: Not enough space to cache rdd_217_0 in memory! (computed 347.9 MiB so far)\n",
      "24/12/02 14:03:29 WARN MemoryStore: Not enough space to cache rdd_217_1 in memory! (computed 347.9 MiB so far)\n",
      "24/12/02 14:03:31 WARN MemoryStore: Not enough space to cache rdd_217_2 in memory! (computed 347.9 MiB so far)\n",
      "24/12/02 14:03:33 WARN MemoryStore: Not enough space to cache rdd_217_3 in memory! (computed 347.9 MiB so far)\n",
      "24/12/02 14:03:36 WARN MemoryStore: Not enough space to cache rdd_217_4 in memory! (computed 347.9 MiB so far)\n",
      "24/12/02 14:03:38 WARN MemoryStore: Not enough space to cache rdd_217_5 in memory! (computed 347.9 MiB so far)\n",
      "24/12/02 14:03:40 WARN MemoryStore: Not enough space to cache rdd_217_6 in memory! (computed 347.9 MiB so far)\n",
      "24/12/02 14:03:43 WARN MemoryStore: Not enough space to cache rdd_217_7 in memory! (computed 347.9 MiB so far)\n",
      "24/12/02 14:03:45 WARN MemoryStore: Not enough space to cache rdd_217_8 in memory! (computed 347.9 MiB so far)\n",
      "24/12/02 14:03:47 WARN MemoryStore: Not enough space to cache rdd_217_9 in memory! (computed 347.9 MiB so far)\n",
      "24/12/02 14:03:49 WARN MemoryStore: Not enough space to cache rdd_217_0 in memory! (computed 347.9 MiB so far)\n",
      "24/12/02 14:03:52 WARN MemoryStore: Not enough space to cache rdd_217_1 in memory! (computed 347.9 MiB so far)\n",
      "24/12/02 14:03:54 WARN MemoryStore: Not enough space to cache rdd_217_2 in memory! (computed 347.9 MiB so far)\n",
      "24/12/02 14:03:57 WARN MemoryStore: Not enough space to cache rdd_217_3 in memory! (computed 347.9 MiB so far)\n",
      "24/12/02 14:04:00 WARN MemoryStore: Not enough space to cache rdd_217_4 in memory! (computed 347.9 MiB so far)\n",
      "24/12/02 14:04:02 WARN MemoryStore: Not enough space to cache rdd_217_5 in memory! (computed 347.9 MiB so far)\n",
      "24/12/02 14:04:05 WARN MemoryStore: Not enough space to cache rdd_217_6 in memory! (computed 347.9 MiB so far)\n",
      "24/12/02 14:04:08 WARN MemoryStore: Not enough space to cache rdd_217_7 in memory! (computed 347.9 MiB so far)\n",
      "24/12/02 14:04:10 WARN MemoryStore: Not enough space to cache rdd_217_8 in memory! (computed 347.9 MiB so far)\n",
      "24/12/02 14:04:13 WARN MemoryStore: Not enough space to cache rdd_217_9 in memory! (computed 347.9 MiB so far)\n",
      "[Stage 72:==============================================>           (4 + 1) / 5]\r"
     ]
    },
    {
     "name": "stdout",
     "output_type": "stream",
     "text": [
      "Test Accuracy: 0.81\n"
     ]
    },
    {
     "name": "stderr",
     "output_type": "stream",
     "text": [
      "                                                                                \r"
     ]
    }
   ],
   "source": [
    "\n",
    "from pyspark.ml.regression import LinearRegression\n",
    "from pyspark.ml.classification import LogisticRegression, RandomForestClassifier\n",
    "from pyspark.ml.evaluation import MulticlassClassificationEvaluator\n",
    "from pyspark.ml.feature import StringIndexer, OneHotEncoder, VectorAssembler\n",
    "from pyspark.ml import Pipeline\n",
    "\n",
    "# Prepare data\n",
    "target_column = \"DEP_DEL15\"\n",
    "label_column = \"label\"\n",
    "\n",
    "numeric_features = [\n",
    "    \"MONTH\",\n",
    "    \"DAY_OF_WEEK\",\n",
    "    \"DISTANCE_GROUP\",\n",
    "    \"SEGMENT_NUMBER\",\n",
    "    \"CONCURRENT_FLIGHTS\",\n",
    "    \"NUMBER_OF_SEATS\",\n",
    "    \"AIRPORT_FLIGHTS_MONTH\",\n",
    "    \"AIRLINE_FLIGHTS_MONTH\",\n",
    "    \"AIRLINE_AIRPORT_FLIGHTS_MONTH\",\n",
    "    \"AVG_MONTHLY_PASS_AIRPORT\",\n",
    "    \"AVG_MONTHLY_PASS_AIRLINE\",\n",
    "    \"FLT_ATTENDANTS_PER_PASS\",\n",
    "    \"GROUND_SERV_PER_PASS\",\n",
    "    \"PLANE_AGE\",\n",
    "    \"LATITUDE\",\n",
    "    \"LONGITUDE\",\n",
    "    \"PRCP\",\n",
    "    \"SNOW\",\n",
    "    \"SNWD\",\n",
    "    \"TMAX\",\n",
    "    \"AWND\",\n",
    "    \"CARRIER_HISTORICAL\",\n",
    "    \"DEP_AIRPORT_HIST\",\n",
    "    \"DAY_HISTORICAL\",\n",
    "    \"DEP_BLOCK_HIST\"\n",
    "]\n",
    "\n",
    "string_features = ['DEP_TIME_BLK', 'CARRIER_NAME', 'DEPARTING_AIRPORT', 'PREVIOUS_AIRPORT']\n",
    "\n",
    "def one_hot_name(for_string_feature):\n",
    "    return for_string_feature + \"_one_hot\"\n",
    "def indexer_name(for_string_feature):\n",
    "    return for_string_feature + \"_index\"\n",
    "\n",
    "string_feature_indexers = list(map(lambda string_feature: StringIndexer(inputCol=string_feature, outputCol=indexer_name(string_feature), handleInvalid=\"keep\"), string_features))\n",
    "one_hot_encoders = list(map(lambda string_feature: OneHotEncoder(inputCol=indexer_name(string_feature), outputCol=one_hot_name(string_feature)), string_features))\n",
    "label_indexer = StringIndexer(inputCol=target_column, outputCol=label_column)\n",
    "one_hot_column_names = list(map(lambda string_feature: one_hot_name(string_feature), string_features))\n",
    "assembler = VectorAssembler(\n",
    "    inputCols= one_hot_column_names + numeric_features,\n",
    "    outputCol=\"features\"\n",
    ")\n",
    "classifier = RandomForestClassifier(featuresCol=\"features\", labelCol=label_column)\n",
    "pipeline = Pipeline(stages=string_feature_indexers + one_hot_encoders + [label_indexer, assembler, classifier])\n",
    "model = pipeline.fit(trainDF)\n",
    "predictions = model.transform(testDF)\n",
    "evaluator = MulticlassClassificationEvaluator(\n",
    "    labelCol=label_column, predictionCol=\"prediction\", metricName=\"accuracy\"\n",
    ")\n",
    "\n",
    "accuracy = evaluator.evaluate(predictions)\n",
    "print(f\"Test Accuracy: {accuracy:.2f}\")\n"
   ]
  },
  {
   "cell_type": "code",
   "execution_count": null,
   "metadata": {},
   "outputs": [],
   "source": []
  }
 ],
 "metadata": {
  "kernelspec": {
   "display_name": "base",
   "language": "python",
   "name": "python3"
  },
  "language_info": {
   "codemirror_mode": {
    "name": "ipython",
    "version": 3
   },
   "file_extension": ".py",
   "mimetype": "text/x-python",
   "name": "python",
   "nbconvert_exporter": "python",
   "pygments_lexer": "ipython3",
   "version": "3.11.5"
  }
 },
 "nbformat": 4,
 "nbformat_minor": 2
}
